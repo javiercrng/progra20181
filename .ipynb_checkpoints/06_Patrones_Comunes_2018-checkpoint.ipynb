{
 "cells": [
  {
   "cell_type": "markdown",
   "metadata": {
    "slideshow": {
     "slide_type": "slide"
    }
   },
   "source": [
    "\n",
    "<img src=\"images/utfsm.png\" alt=\"\" width=\"200px\" align=\"right\"/>\n",
    "\n",
    "<br/>\n",
    "\n",
    "# IWI131 Programación\n",
    "Patrones Comunes<br/>\n",
    "Cristopher Arenas<br/>\n",
    "cristopher.arenas@usm.cl<br/>\n",
    "\n",
    "<br/>\n",
    "Paralelo 200<br/>\n",
    "Campus San Joaquin"
   ]
  },
  {
   "cell_type": "markdown",
   "metadata": {
    "slideshow": {
     "slide_type": "slide"
    }
   },
   "source": [
    "**Patrón**: Solución aplicable a un prolema que ocurre a menudo."
   ]
  },
  {
   "cell_type": "markdown",
   "metadata": {
    "slideshow": {
     "slide_type": "fragment"
    }
   },
   "source": [
    "1. Sumar cosas\n",
    "2. Multiplicar cosas\n",
    "3. Contar cosas\n",
    "4. Encontrar el máximo\n",
    "5. Encontrar el mínimo\n",
    "6. Generar pares de cosas"
   ]
  },
  {
   "cell_type": "markdown",
   "metadata": {
    "slideshow": {
     "slide_type": "slide"
    }
   },
   "source": [
    "### 1. Sumar cosas"
   ]
  },
  {
   "cell_type": "markdown",
   "metadata": {
    "slideshow": {
     "slide_type": "fragment"
    }
   },
   "source": [
    "Escriba una función que reciba como parámetro un número entero. La función debe retornar la suma de los números al cuadrado desde el 1 hasta el valor ingresado como parámetro:\n",
    "$$\n",
    "1^2+2^2+\\ldots+(n-1)^2+n^2\n",
    "$$"
   ]
  },
  {
   "cell_type": "code",
   "execution_count": 3,
   "metadata": {
    "slideshow": {
     "slide_type": "fragment"
    }
   },
   "outputs": [],
   "source": [
    "def suma_cuadrados(n):\n",
    "    suma = 0\n",
    "    c = 0\n",
    "    while c < n:\n",
    "        d = (c+1)**2\n",
    "        suma = suma + d\n",
    "        c = c + 1\n",
    "    return suma"
   ]
  },
  {
   "cell_type": "code",
   "execution_count": 4,
   "metadata": {
    "slideshow": {
     "slide_type": "fragment"
    }
   },
   "outputs": [
    {
     "name": "stdout",
     "output_type": "stream",
     "text": [
      "14\n"
     ]
    }
   ],
   "source": [
    "n =  3\n",
    "suma = suma_cuadrados(n)\n",
    "print suma"
   ]
  },
  {
   "cell_type": "markdown",
   "metadata": {
    "slideshow": {
     "slide_type": "slide"
    }
   },
   "source": [
    "**Sintaxis sumar cosas:**\n",
    "```Python\n",
    "suma = 0\n",
    "ciclo:\n",
    "    n = calcular()\n",
    "    suma = suma + n\n",
    "```"
   ]
  },
  {
   "cell_type": "markdown",
   "metadata": {
    "slideshow": {
     "slide_type": "fragment"
    }
   },
   "source": [
    "¿Cuáles son los elementos de este patrón?"
   ]
  },
  {
   "cell_type": "markdown",
   "metadata": {
    "slideshow": {
     "slide_type": "slide"
    }
   },
   "source": [
    "### 2. Multiplicar cosas"
   ]
  },
  {
   "cell_type": "markdown",
   "metadata": {
    "slideshow": {
     "slide_type": "fragment"
    }
   },
   "source": [
    "Escriba una función que calcule el factorial de un número $n$ ingresada como parámetro:\n",
    "$3! = 1\\cdot 2 \\cdot 3$"
   ]
  },
  {
   "cell_type": "code",
   "execution_count": 5,
   "metadata": {
    "slideshow": {
     "slide_type": "fragment"
    }
   },
   "outputs": [],
   "source": [
    "def factorial(n):\n",
    "    if n == 0:\n",
    "        return 1\n",
    "    else:\n",
    "        prod = 1\n",
    "        c = 1\n",
    "        while c <= n:\n",
    "            prod  = prod * c\n",
    "            #c = c + 1\n",
    "            c += 1\n",
    "        return prod"
   ]
  },
  {
   "cell_type": "code",
   "execution_count": 6,
   "metadata": {
    "slideshow": {
     "slide_type": "fragment"
    }
   },
   "outputs": [
    {
     "name": "stdout",
     "output_type": "stream",
     "text": [
      "6\n"
     ]
    }
   ],
   "source": [
    "f = factorial(3)\n",
    "print f"
   ]
  },
  {
   "cell_type": "markdown",
   "metadata": {
    "slideshow": {
     "slide_type": "slide"
    }
   },
   "source": [
    "**Sintaxis multiplicar cosas:**\n",
    "```Python\n",
    "producto = 1\n",
    "ciclo:\n",
    "    n = calcular()\n",
    "    producto = producto * n\n",
    "```"
   ]
  },
  {
   "cell_type": "markdown",
   "metadata": {
    "slideshow": {
     "slide_type": "fragment"
    }
   },
   "source": [
    "¿Cuáles son los elementos de este patrón?"
   ]
  },
  {
   "cell_type": "markdown",
   "metadata": {
    "slideshow": {
     "slide_type": "slide"
    }
   },
   "source": [
    "### 3. Contar cosas"
   ]
  },
  {
   "cell_type": "markdown",
   "metadata": {
    "slideshow": {
     "slide_type": "fragment"
    }
   },
   "source": [
    "Escriba una función que solicite el ingreso de $n$ números, luego entregue la cantidad de números pares ingresados."
   ]
  },
  {
   "cell_type": "code",
   "execution_count": 7,
   "metadata": {
    "slideshow": {
     "slide_type": "fragment"
    }
   },
   "outputs": [],
   "source": [
    "def cuenta_pares(n):\n",
    "    contador = 0\n",
    "    c = 0\n",
    "    while c < n:\n",
    "        numero = int(raw_input(\"Ingrese numero \"+str(c+1)+\": \"))\n",
    "        if numero % 2 == 0:\n",
    "            contador += 1 # lo mismo que: contador = contador + 1\n",
    "        print \"contador =\",contador\n",
    "        c += 1\n",
    "    return contador"
   ]
  },
  {
   "cell_type": "code",
   "execution_count": 8,
   "metadata": {
    "slideshow": {
     "slide_type": "fragment"
    }
   },
   "outputs": [
    {
     "name": "stdout",
     "output_type": "stream",
     "text": [
      "Ingrese numero 1: 2\n",
      "contador = 1\n",
      "Ingrese numero 2: 6\n",
      "contador = 2\n",
      "Ingrese numero 3: 1\n",
      "contador = 2\n",
      "Hay 2 pares\n"
     ]
    }
   ],
   "source": [
    "cuenta = cuenta_pares(3)\n",
    "print \"Hay\",cuenta,\"pares\""
   ]
  },
  {
   "cell_type": "code",
   "execution_count": 9,
   "metadata": {
    "slideshow": {
     "slide_type": "slide"
    }
   },
   "outputs": [],
   "source": [
    "def cuenta_letras(texto,letra):\n",
    "    i = 0\n",
    "    contador = 0\n",
    "    while i<len(texto):\n",
    "        c = texto[i]\n",
    "        if letra == texto[i]:\n",
    "            contador += 1\n",
    "        i += 1\n",
    "    return contador"
   ]
  },
  {
   "cell_type": "code",
   "execution_count": 10,
   "metadata": {},
   "outputs": [
    {
     "name": "stdout",
     "output_type": "stream",
     "text": [
      "Hay 3 porciones de frutilla\n"
     ]
    }
   ],
   "source": [
    "helado = \"cflcclff\"\n",
    "frutilla = cuenta_letras(helado,\"f\")\n",
    "print \"Hay\",frutilla, \"porciones de frutilla\""
   ]
  },
  {
   "cell_type": "code",
   "execution_count": 11,
   "metadata": {},
   "outputs": [
    {
     "name": "stdout",
     "output_type": "stream",
     "text": [
      "0\n"
     ]
    }
   ],
   "source": [
    "#la funcion no cuenta correctamente en este caso\n",
    "a = cuenta_letras(helado,\"cf\")\n",
    "print a"
   ]
  },
  {
   "cell_type": "markdown",
   "metadata": {
    "slideshow": {
     "slide_type": "slide"
    }
   },
   "source": [
    "**Sintaxis contar cosas:**\n",
    "```Python\n",
    "cuenta = 0\n",
    "ciclo:\n",
    "    if condicion:\n",
    "        cuenta = cuenta + 1\n",
    "```"
   ]
  },
  {
   "cell_type": "markdown",
   "metadata": {
    "slideshow": {
     "slide_type": "fragment"
    }
   },
   "source": [
    "¿Cuáles son los elementos de este patrón?"
   ]
  },
  {
   "cell_type": "markdown",
   "metadata": {
    "slideshow": {
     "slide_type": "slide"
    }
   },
   "source": [
    "### 4. Encontrar el máximo"
   ]
  },
  {
   "cell_type": "markdown",
   "metadata": {
    "slideshow": {
     "slide_type": "fragment"
    }
   },
   "source": [
    "Escribir un programa que solicite n números y luego muestre el número mayor que haya sido ingresado."
   ]
  },
  {
   "cell_type": "markdown",
   "metadata": {
    "slideshow": {
     "slide_type": "fragment"
    }
   },
   "source": [
    "**Opción 1:** usando un número muy pequeño para comparar."
   ]
  },
  {
   "cell_type": "code",
   "execution_count": 27,
   "metadata": {
    "slideshow": {
     "slide_type": "fragment"
    }
   },
   "outputs": [
    {
     "name": "stdout",
     "output_type": "stream",
     "text": [
      "Ingrese n: 3\n",
      "i= 1\n",
      "mensaje= Ingrese numero 1: \n",
      "Ingrese numero 1: 2\n",
      "mayor = 2.0\n",
      "i= 2\n",
      "mensaje= Ingrese numero 2: \n",
      "Ingrese numero 2: 5\n",
      "mayor = 5.0\n",
      "i= 3\n",
      "mensaje= Ingrese numero 3: \n",
      "Ingrese numero 3: 1\n",
      "mayor = 5.0\n",
      "El numero mayor es 5.0\n"
     ]
    }
   ],
   "source": [
    "n = int(raw_input(\"Ingrese n: \"))\n",
    "i = 1\n",
    "mayor = float(\"-Inf\")\n",
    "while i <= n:\n",
    "    print \"i=\",i\n",
    "    mensaje = \"Ingrese numero \"+str(i)+\": \"\n",
    "    print \"mensaje=\",mensaje\n",
    "    numero =  float(raw_input(mensaje))\n",
    "    if mayor < numero:\n",
    "        mayor = numero\n",
    "    print \"mayor =\",mayor\n",
    "    i += 1\n",
    "print \"El numero mayor es\",mayor"
   ]
  },
  {
   "cell_type": "markdown",
   "metadata": {
    "slideshow": {
     "slide_type": "fragment"
    }
   },
   "source": [
    "**Opción 2:** sin usar número muy pequeño para comparar."
   ]
  },
  {
   "cell_type": "code",
   "execution_count": 28,
   "metadata": {
    "slideshow": {
     "slide_type": "fragment"
    }
   },
   "outputs": [
    {
     "name": "stdout",
     "output_type": "stream",
     "text": [
      "Ingrese n: 2\n",
      "i= 1\n",
      "mensaje= Ingrese numero 1: \n",
      "Ingrese numero 1: 4\n",
      "mayor = 4.0\n",
      "i= 2\n",
      "mensaje= Ingrese numero 2: \n",
      "Ingrese numero 2: 1\n",
      "mayor = 4.0\n",
      "El numero mayor es 4.0\n"
     ]
    }
   ],
   "source": [
    "n = int(raw_input(\"Ingrese n: \"))\n",
    "i = 1\n",
    "while i <= n:\n",
    "    print \"i=\",i\n",
    "    mensaje = \"Ingrese numero \"+str(i)+\": \"\n",
    "    print \"mensaje=\",mensaje\n",
    "    numero =  float(raw_input(mensaje))\n",
    "    if i == 1:\n",
    "        mayor = numero\n",
    "    elif mayor < numero:\n",
    "        mayor = numero\n",
    "    print \"mayor =\",mayor\n",
    "    i += 1\n",
    "print \"El numero mayor es\",mayor"
   ]
  },
  {
   "cell_type": "markdown",
   "metadata": {
    "slideshow": {
     "slide_type": "slide"
    }
   },
   "source": [
    "### **Sintaxis encontrar el máximo:**\n",
    "```Python\n",
    "mayor = numero_muy_chico\n",
    "ciclo:\n",
    "    n = calcular()\n",
    "    if n > mayor:\n",
    "        mayor = n\n",
    "```"
   ]
  },
  {
   "cell_type": "markdown",
   "metadata": {
    "slideshow": {
     "slide_type": "fragment"
    }
   },
   "source": [
    "¿Cuáles son los elementos de este patrón?"
   ]
  },
  {
   "cell_type": "markdown",
   "metadata": {
    "slideshow": {
     "slide_type": "slide"
    }
   },
   "source": [
    "### 5. Encontrar el mínimo"
   ]
  },
  {
   "cell_type": "markdown",
   "metadata": {
    "slideshow": {
     "slide_type": "fragment"
    }
   },
   "source": [
    "¿Cómo cambia el patrón anterior si ahora se quiere encontrar el mínimo?"
   ]
  },
  {
   "cell_type": "code",
   "execution_count": 30,
   "metadata": {
    "slideshow": {
     "slide_type": "fragment"
    }
   },
   "outputs": [
    {
     "name": "stdout",
     "output_type": "stream",
     "text": [
      "Ingrese n: 3\n",
      "i= 1\n",
      "mensaje= Ingrese numero 1: \n",
      "Ingrese numero 1: 5\n",
      "menor = 5.0\n",
      "i= 2\n",
      "mensaje= Ingrese numero 2: \n",
      "Ingrese numero 2: 2\n",
      "menor = 2.0\n",
      "i= 3\n",
      "mensaje= Ingrese numero 3: \n",
      "Ingrese numero 3: 6\n",
      "menor = 2.0\n",
      "El numero menor es 2.0\n"
     ]
    }
   ],
   "source": [
    "n = int(raw_input(\"Ingrese n: \"))\n",
    "i = 1\n",
    "menor = float(\"Inf\")\n",
    "while i <= n:\n",
    "    print \"i=\",i\n",
    "    mensaje = \"Ingrese numero \"+str(i)+\": \"\n",
    "    print \"mensaje=\",mensaje\n",
    "    numero =  float(raw_input(mensaje))\n",
    "    if menor > numero:\n",
    "        menor = numero\n",
    "    print \"menor =\",menor\n",
    "    i += 1\n",
    "print \"El numero menor es\",menor"
   ]
  },
  {
   "cell_type": "markdown",
   "metadata": {
    "slideshow": {
     "slide_type": "fragment"
    }
   },
   "source": [
    "**Sintaxis encontrar el mínimo:**\n",
    "```Python\n",
    "menor = numero_muy_grande\n",
    "ciclo:\n",
    "    n = calcular()\n",
    "    if n < menor:\n",
    "        menor = n\n",
    "```"
   ]
  },
  {
   "cell_type": "markdown",
   "metadata": {
    "slideshow": {
     "slide_type": "slide"
    }
   },
   "source": [
    "### 6. Generar Pares de cosas"
   ]
  },
  {
   "cell_type": "markdown",
   "metadata": {
    "slideshow": {
     "slide_type": "fragment"
    }
   },
   "source": [
    "Escribir un programa que muestre todas las combinaciones posibles al lanzar 2 dados."
   ]
  },
  {
   "cell_type": "code",
   "execution_count": 25,
   "metadata": {
    "scrolled": false,
    "slideshow": {
     "slide_type": "fragment"
    }
   },
   "outputs": [
    {
     "name": "stdout",
     "output_type": "stream",
     "text": [
      "contador= 1 i= 1 j= 1\n",
      "contador= 2 i= 1 j= 2\n",
      "contador= 3 i= 1 j= 3\n",
      "contador= 4 i= 1 j= 4\n",
      "contador= 5 i= 1 j= 5\n",
      "contador= 6 i= 1 j= 6\n",
      "contador= 7 i= 2 j= 1\n",
      "contador= 8 i= 2 j= 2\n",
      "contador= 9 i= 2 j= 3\n",
      "contador= 10 i= 2 j= 4\n",
      "contador= 11 i= 2 j= 5\n",
      "contador= 12 i= 2 j= 6\n",
      "contador= 13 i= 3 j= 1\n",
      "contador= 14 i= 3 j= 2\n",
      "contador= 15 i= 3 j= 3\n",
      "contador= 16 i= 3 j= 4\n",
      "contador= 17 i= 3 j= 5\n",
      "contador= 18 i= 3 j= 6\n",
      "contador= 19 i= 4 j= 1\n",
      "contador= 20 i= 4 j= 2\n",
      "contador= 21 i= 4 j= 3\n",
      "contador= 22 i= 4 j= 4\n",
      "contador= 23 i= 4 j= 5\n",
      "contador= 24 i= 4 j= 6\n",
      "contador= 25 i= 5 j= 1\n",
      "contador= 26 i= 5 j= 2\n",
      "contador= 27 i= 5 j= 3\n",
      "contador= 28 i= 5 j= 4\n",
      "contador= 29 i= 5 j= 5\n",
      "contador= 30 i= 5 j= 6\n",
      "contador= 31 i= 6 j= 1\n",
      "contador= 32 i= 6 j= 2\n",
      "contador= 33 i= 6 j= 3\n",
      "contador= 34 i= 6 j= 4\n",
      "contador= 35 i= 6 j= 5\n",
      "contador= 36 i= 6 j= 6\n"
     ]
    }
   ],
   "source": [
    "n,m = 6,6\n",
    "i= 0\n",
    "contador = 0\n",
    "while i < n:\n",
    "    j = 0\n",
    "    i += 1\n",
    "    while j < m:\n",
    "        j += 1\n",
    "        contador +=1\n",
    "        print \"contador=\",contador,\"i=\",i,\"j=\",j"
   ]
  },
  {
   "cell_type": "markdown",
   "metadata": {
    "slideshow": {
     "slide_type": "slide"
    }
   },
   "source": [
    "Generar trios de cosas requiere un tercer ciclo `while`."
   ]
  },
  {
   "cell_type": "code",
   "execution_count": 23,
   "metadata": {
    "scrolled": false,
    "slideshow": {
     "slide_type": "fragment"
    }
   },
   "outputs": [
    {
     "name": "stdout",
     "output_type": "stream",
     "text": [
      "contador= 1 i= 1 j= 1 k= 1\n",
      "contador= 2 i= 1 j= 1 k= 2\n",
      "contador= 3 i= 1 j= 1 k= 3\n",
      "contador= 4 i= 1 j= 1 k= 4\n",
      "contador= 5 i= 1 j= 2 k= 1\n",
      "contador= 6 i= 1 j= 2 k= 2\n",
      "contador= 7 i= 1 j= 2 k= 3\n",
      "contador= 8 i= 1 j= 2 k= 4\n",
      "contador= 9 i= 1 j= 3 k= 1\n",
      "contador= 10 i= 1 j= 3 k= 2\n",
      "contador= 11 i= 1 j= 3 k= 3\n",
      "contador= 12 i= 1 j= 3 k= 4\n",
      "contador= 13 i= 1 j= 4 k= 1\n",
      "contador= 14 i= 1 j= 4 k= 2\n",
      "contador= 15 i= 1 j= 4 k= 3\n",
      "contador= 16 i= 1 j= 4 k= 4\n",
      "contador= 17 i= 1 j= 5 k= 1\n",
      "contador= 18 i= 1 j= 5 k= 2\n",
      "contador= 19 i= 1 j= 5 k= 3\n",
      "contador= 20 i= 1 j= 5 k= 4\n",
      "contador= 21 i= 1 j= 6 k= 1\n",
      "contador= 22 i= 1 j= 6 k= 2\n",
      "contador= 23 i= 1 j= 6 k= 3\n",
      "contador= 24 i= 1 j= 6 k= 4\n",
      "contador= 25 i= 2 j= 1 k= 1\n",
      "contador= 26 i= 2 j= 1 k= 2\n",
      "contador= 27 i= 2 j= 1 k= 3\n",
      "contador= 28 i= 2 j= 1 k= 4\n",
      "contador= 29 i= 2 j= 2 k= 1\n",
      "contador= 30 i= 2 j= 2 k= 2\n",
      "contador= 31 i= 2 j= 2 k= 3\n",
      "contador= 32 i= 2 j= 2 k= 4\n",
      "contador= 33 i= 2 j= 3 k= 1\n",
      "contador= 34 i= 2 j= 3 k= 2\n",
      "contador= 35 i= 2 j= 3 k= 3\n",
      "contador= 36 i= 2 j= 3 k= 4\n",
      "contador= 37 i= 2 j= 4 k= 1\n",
      "contador= 38 i= 2 j= 4 k= 2\n",
      "contador= 39 i= 2 j= 4 k= 3\n",
      "contador= 40 i= 2 j= 4 k= 4\n",
      "contador= 41 i= 2 j= 5 k= 1\n",
      "contador= 42 i= 2 j= 5 k= 2\n",
      "contador= 43 i= 2 j= 5 k= 3\n",
      "contador= 44 i= 2 j= 5 k= 4\n",
      "contador= 45 i= 2 j= 6 k= 1\n",
      "contador= 46 i= 2 j= 6 k= 2\n",
      "contador= 47 i= 2 j= 6 k= 3\n",
      "contador= 48 i= 2 j= 6 k= 4\n",
      "contador= 49 i= 3 j= 1 k= 1\n",
      "contador= 50 i= 3 j= 1 k= 2\n",
      "contador= 51 i= 3 j= 1 k= 3\n",
      "contador= 52 i= 3 j= 1 k= 4\n",
      "contador= 53 i= 3 j= 2 k= 1\n",
      "contador= 54 i= 3 j= 2 k= 2\n",
      "contador= 55 i= 3 j= 2 k= 3\n",
      "contador= 56 i= 3 j= 2 k= 4\n",
      "contador= 57 i= 3 j= 3 k= 1\n",
      "contador= 58 i= 3 j= 3 k= 2\n",
      "contador= 59 i= 3 j= 3 k= 3\n",
      "contador= 60 i= 3 j= 3 k= 4\n",
      "contador= 61 i= 3 j= 4 k= 1\n",
      "contador= 62 i= 3 j= 4 k= 2\n",
      "contador= 63 i= 3 j= 4 k= 3\n",
      "contador= 64 i= 3 j= 4 k= 4\n",
      "contador= 65 i= 3 j= 5 k= 1\n",
      "contador= 66 i= 3 j= 5 k= 2\n",
      "contador= 67 i= 3 j= 5 k= 3\n",
      "contador= 68 i= 3 j= 5 k= 4\n",
      "contador= 69 i= 3 j= 6 k= 1\n",
      "contador= 70 i= 3 j= 6 k= 2\n",
      "contador= 71 i= 3 j= 6 k= 3\n",
      "contador= 72 i= 3 j= 6 k= 4\n",
      "contador= 73 i= 4 j= 1 k= 1\n",
      "contador= 74 i= 4 j= 1 k= 2\n",
      "contador= 75 i= 4 j= 1 k= 3\n",
      "contador= 76 i= 4 j= 1 k= 4\n",
      "contador= 77 i= 4 j= 2 k= 1\n",
      "contador= 78 i= 4 j= 2 k= 2\n",
      "contador= 79 i= 4 j= 2 k= 3\n",
      "contador= 80 i= 4 j= 2 k= 4\n",
      "contador= 81 i= 4 j= 3 k= 1\n",
      "contador= 82 i= 4 j= 3 k= 2\n",
      "contador= 83 i= 4 j= 3 k= 3\n",
      "contador= 84 i= 4 j= 3 k= 4\n",
      "contador= 85 i= 4 j= 4 k= 1\n",
      "contador= 86 i= 4 j= 4 k= 2\n",
      "contador= 87 i= 4 j= 4 k= 3\n",
      "contador= 88 i= 4 j= 4 k= 4\n",
      "contador= 89 i= 4 j= 5 k= 1\n",
      "contador= 90 i= 4 j= 5 k= 2\n",
      "contador= 91 i= 4 j= 5 k= 3\n",
      "contador= 92 i= 4 j= 5 k= 4\n",
      "contador= 93 i= 4 j= 6 k= 1\n",
      "contador= 94 i= 4 j= 6 k= 2\n",
      "contador= 95 i= 4 j= 6 k= 3\n",
      "contador= 96 i= 4 j= 6 k= 4\n",
      "contador= 97 i= 5 j= 1 k= 1\n",
      "contador= 98 i= 5 j= 1 k= 2\n",
      "contador= 99 i= 5 j= 1 k= 3\n",
      "contador= 100 i= 5 j= 1 k= 4\n",
      "contador= 101 i= 5 j= 2 k= 1\n",
      "contador= 102 i= 5 j= 2 k= 2\n",
      "contador= 103 i= 5 j= 2 k= 3\n",
      "contador= 104 i= 5 j= 2 k= 4\n",
      "contador= 105 i= 5 j= 3 k= 1\n",
      "contador= 106 i= 5 j= 3 k= 2\n",
      "contador= 107 i= 5 j= 3 k= 3\n",
      "contador= 108 i= 5 j= 3 k= 4\n",
      "contador= 109 i= 5 j= 4 k= 1\n",
      "contador= 110 i= 5 j= 4 k= 2\n",
      "contador= 111 i= 5 j= 4 k= 3\n",
      "contador= 112 i= 5 j= 4 k= 4\n",
      "contador= 113 i= 5 j= 5 k= 1\n",
      "contador= 114 i= 5 j= 5 k= 2\n",
      "contador= 115 i= 5 j= 5 k= 3\n",
      "contador= 116 i= 5 j= 5 k= 4\n",
      "contador= 117 i= 5 j= 6 k= 1\n",
      "contador= 118 i= 5 j= 6 k= 2\n",
      "contador= 119 i= 5 j= 6 k= 3\n",
      "contador= 120 i= 5 j= 6 k= 4\n",
      "contador= 121 i= 6 j= 1 k= 1\n",
      "contador= 122 i= 6 j= 1 k= 2\n",
      "contador= 123 i= 6 j= 1 k= 3\n",
      "contador= 124 i= 6 j= 1 k= 4\n",
      "contador= 125 i= 6 j= 2 k= 1\n",
      "contador= 126 i= 6 j= 2 k= 2\n",
      "contador= 127 i= 6 j= 2 k= 3\n",
      "contador= 128 i= 6 j= 2 k= 4\n",
      "contador= 129 i= 6 j= 3 k= 1\n",
      "contador= 130 i= 6 j= 3 k= 2\n",
      "contador= 131 i= 6 j= 3 k= 3\n",
      "contador= 132 i= 6 j= 3 k= 4\n",
      "contador= 133 i= 6 j= 4 k= 1\n",
      "contador= 134 i= 6 j= 4 k= 2\n",
      "contador= 135 i= 6 j= 4 k= 3\n",
      "contador= 136 i= 6 j= 4 k= 4\n",
      "contador= 137 i= 6 j= 5 k= 1\n",
      "contador= 138 i= 6 j= 5 k= 2\n",
      "contador= 139 i= 6 j= 5 k= 3\n",
      "contador= 140 i= 6 j= 5 k= 4\n",
      "contador= 141 i= 6 j= 6 k= 1\n",
      "contador= 142 i= 6 j= 6 k= 2\n",
      "contador= 143 i= 6 j= 6 k= 3\n",
      "contador= 144 i= 6 j= 6 k= 4\n"
     ]
    }
   ],
   "source": [
    "n,m,l = 6,6,4\n",
    "i= 0\n",
    "contador = 0\n",
    "while i < n:\n",
    "    j = 0\n",
    "    i += 1\n",
    "    while j < m:\n",
    "        k = 0\n",
    "        j += 1\n",
    "        while k < l:\n",
    "            k+=1\n",
    "            contador +=1\n",
    "            print \"contador=\",contador,\"i=\",i,\"j=\",j,\"k=\",k"
   ]
  },
  {
   "cell_type": "code",
   "execution_count": null,
   "metadata": {
    "slideshow": {
     "slide_type": "skip"
    }
   },
   "outputs": [],
   "source": []
  }
 ],
 "metadata": {
  "anaconda-cloud": {},
  "celltoolbar": "Slideshow",
  "kernelspec": {
   "display_name": "Python 2",
   "language": "python",
   "name": "python2"
  },
  "language_info": {
   "codemirror_mode": {
    "name": "ipython",
    "version": 2
   },
   "file_extension": ".py",
   "mimetype": "text/x-python",
   "name": "python",
   "nbconvert_exporter": "python",
   "pygments_lexer": "ipython2",
   "version": "2.7.6"
  }
 },
 "nbformat": 4,
 "nbformat_minor": 1
}
