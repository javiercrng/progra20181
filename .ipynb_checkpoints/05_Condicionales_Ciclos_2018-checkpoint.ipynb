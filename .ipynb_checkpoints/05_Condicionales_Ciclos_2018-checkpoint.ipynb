{
 "cells": [
  {
   "cell_type": "markdown",
   "metadata": {
    "slideshow": {
     "slide_type": "slide"
    }
   },
   "source": [
    "\n",
    "<img src=\"images/utfsm.png\" alt=\"\" width=\"200px\" align=\"right\"/>\n",
    "\n",
    "<br/>\n",
    "\n",
    "# IWI131 Programación\n",
    "Condicionales y Ciclos<br/>\n",
    "Cristopher Arenas<br/>\n",
    "cristopher.arenas@usm.cl<br/>\n",
    "\n",
    "<br/>\n",
    "Paralelo 200<br/>\n",
    "Campus San Joaquin"
   ]
  },
  {
   "cell_type": "markdown",
   "metadata": {
    "slideshow": {
     "slide_type": "slide"
    }
   },
   "source": [
    "## Sentencias Condicionales"
   ]
  },
  {
   "cell_type": "markdown",
   "metadata": {
    "slideshow": {
     "slide_type": "fragment"
    }
   },
   "source": [
    "### Condicional `if`\n",
    "La sentencia `if` ejecuta las instrucciones solo si se cumple una condición. Si la condición es falsa no se hace nada"
   ]
  },
  {
   "cell_type": "markdown",
   "metadata": {
    "collapsed": true,
    "slideshow": {
     "slide_type": "fragment"
    }
   },
   "source": [
    "**Sintaxis:**\n",
    "```python\n",
    "if condicion:\n",
    "    sentencias\n",
    "```"
   ]
  },
  {
   "cell_type": "markdown",
   "metadata": {
    "slideshow": {
     "slide_type": "slide"
    }
   },
   "source": [
    "## Condicional if: Diagrama de flujo equivalente\n",
    "<center>\n",
    "<img src=\"images/if.png\" width=\"40%\">\n",
    "</center>"
   ]
  },
  {
   "cell_type": "markdown",
   "metadata": {
    "slideshow": {
     "slide_type": "slide"
    }
   },
   "source": [
    "## Ejemplos"
   ]
  },
  {
   "cell_type": "code",
   "execution_count": null,
   "metadata": {
    "slideshow": {
     "slide_type": "fragment"
    }
   },
   "outputs": [],
   "source": [
    "nota = int(raw_input(\"Ingrese su nota: \"))\n",
    "if nota >= 55:\n",
    "    print \"Felicitaciones\""
   ]
  },
  {
   "cell_type": "code",
   "execution_count": null,
   "metadata": {
    "slideshow": {
     "slide_type": "fragment"
    }
   },
   "outputs": [],
   "source": [
    "nota = int(raw_input(\"Ingrese su nota: \"))\n",
    "if nota >= 55:\n",
    "    print \"Felicitaciones\""
   ]
  },
  {
   "cell_type": "markdown",
   "metadata": {
    "slideshow": {
     "slide_type": "slide"
    }
   },
   "source": [
    "### Condicional `if-else`\n",
    "La sentencia `if-else` decide que instrucciones ejecutar, dependiendo si una condición es verdadera o falsa."
   ]
  },
  {
   "cell_type": "markdown",
   "metadata": {
    "slideshow": {
     "slide_type": "fragment"
    }
   },
   "source": [
    "**Sintaxis:**\n",
    "```python\n",
    "if condicion:\n",
    "    sentencias cuando la condicion es verdadera\n",
    "else:\n",
    "    sentencias cuando la condicion es falsa\n",
    "```"
   ]
  },
  {
   "cell_type": "markdown",
   "metadata": {
    "slideshow": {
     "slide_type": "slide"
    }
   },
   "source": [
    "## Condicional if-else: Diagrama de flujo equivalente\n",
    "<center>\n",
    "<img src=\"images/if-else.png\" width=\"40%\">\n",
    "</center>"
   ]
  },
  {
   "cell_type": "markdown",
   "metadata": {
    "slideshow": {
     "slide_type": "slide"
    }
   },
   "source": [
    "## Ejemplos"
   ]
  },
  {
   "cell_type": "code",
   "execution_count": null,
   "metadata": {
    "slideshow": {
     "slide_type": "fragment"
    }
   },
   "outputs": [],
   "source": [
    "edad = int(raw_input(\"Cual es su edad? \"))\n",
    "if edad < 18:\n",
    "    print \"Usted es menor de edad\"\n",
    "else:\n",
    "    print \"Usted es adulto\""
   ]
  },
  {
   "cell_type": "code",
   "execution_count": null,
   "metadata": {
    "slideshow": {
     "slide_type": "fragment"
    }
   },
   "outputs": [],
   "source": [
    "edad = int(raw_input(\"Cual es su edad? \"))\n",
    "if edad < 18:\n",
    "    print \"Usted es menor de edad\"\n",
    "else:\n",
    "    print \"Usted es adulto\""
   ]
  },
  {
   "cell_type": "markdown",
   "metadata": {
    "slideshow": {
     "slide_type": "slide"
    }
   },
   "source": [
    "¿Qué mensajes se muestran en el siguiente código si ingresamos...?\n",
    "1. n = 15\n",
    "2. n = 20"
   ]
  },
  {
   "cell_type": "code",
   "execution_count": null,
   "metadata": {
    "slideshow": {
     "slide_type": "fragment"
    }
   },
   "outputs": [],
   "source": [
    "n = int(raw_input(\"Ingrese un numero: \"))\n",
    "if n%2==0:\n",
    "    print \"El numero es par\"\n",
    "    print \"La mitad del numero es\",n/2\n",
    "else:\n",
    "    print \"El numero es impar\"\n",
    "    print \"El sucesor del numero es\",n+1\n",
    "    print \"Listo\""
   ]
  },
  {
   "cell_type": "code",
   "execution_count": null,
   "metadata": {
    "slideshow": {
     "slide_type": "fragment"
    }
   },
   "outputs": [],
   "source": [
    "n = int(raw_input(\"Ingrese un numero: \"))\n",
    "if n%2==0:\n",
    "    print \"El numero es par\"\n",
    "    print \"La mitad del numero es\",n/2\n",
    "else:\n",
    "    print \"El numero es impar\"\n",
    "    print \"El sucesor del numero es\",n+1\n",
    "    print \"Listo\""
   ]
  },
  {
   "cell_type": "markdown",
   "metadata": {
    "slideshow": {
     "slide_type": "slide"
    }
   },
   "source": [
    "### Condicional `if-elif-else`\n",
    "La sentencia `if-elif-else` depende de dos o más condiciones, que son evaluadas en orden. La primera que sea verdadera determina qué instrucciones son ejecutadas."
   ]
  },
  {
   "cell_type": "markdown",
   "metadata": {
    "slideshow": {
     "slide_type": "fragment"
    }
   },
   "source": [
    "**Sintaxis:**\n",
    "```python\n",
    "if condicion1:\n",
    "    sentencias a ejecutar si condicion1 es verdadera\n",
    "elif condicion2:\n",
    "    sentencias a ejecutar si condicion2 es verdadera\n",
    "elif condicion3:\n",
    "    sentencias a ejecutar si condicion3 es verdadera\n",
    "...\n",
    "else:\n",
    "    sentencias a ejecutar cuando ninguna condicion anterior es verdadera\n",
    "```"
   ]
  },
  {
   "cell_type": "markdown",
   "metadata": {
    "slideshow": {
     "slide_type": "slide"
    }
   },
   "source": [
    "## Condicional if-elif-else: Diagrama de flujo equivalente\n",
    "<center>\n",
    "<img src=\"images/if-elif-else.png\">\n",
    "</center>"
   ]
  },
  {
   "cell_type": "markdown",
   "metadata": {
    "slideshow": {
     "slide_type": "slide"
    }
   },
   "source": [
    "Considerar la siguiente tabla que muestra la tasa de impuesto a pagar por una persona según su sueldo."
   ]
  },
  {
   "cell_type": "markdown",
   "metadata": {
    "slideshow": {
     "slide_type": "fragment"
    }
   },
   "source": [
    "<center>\n",
    "<img src=\"images/tabla1.png\">\n",
    "</center>"
   ]
  },
  {
   "cell_type": "markdown",
   "metadata": {
    "slideshow": {
     "slide_type": "slide"
    }
   },
   "source": [
    "Un ejemplo de como se calcula el impuesto sería el siguiente:"
   ]
  },
  {
   "cell_type": "code",
   "execution_count": null,
   "metadata": {
    "slideshow": {
     "slide_type": "fragment"
    }
   },
   "outputs": [],
   "source": [
    "sueldo = int(raw_input(\"Ingrese su sueldo: \"))\n",
    "if sueldo < 1000:\n",
    "    print \"caso 1\"\n",
    "    tasa = 0.00\n",
    "elif sueldo < 2000:\n",
    "    print \"caso 2\"\n",
    "    tasa = 0.05\n",
    "elif sueldo < 4000:\n",
    "    print \"caso 3\"\n",
    "    tasa = 0.10\n",
    "else:\n",
    "    print \"caso falso\"\n",
    "    tasa = 0.12\n",
    "print \"Usted debe pagar\", int(tasa*sueldo), \"de impuesto\""
   ]
  },
  {
   "cell_type": "markdown",
   "metadata": {
    "slideshow": {
     "slide_type": "slide"
    }
   },
   "source": [
    "Otra forma de calcular el impuesto es la siguiente:"
   ]
  },
  {
   "cell_type": "code",
   "execution_count": null,
   "metadata": {
    "slideshow": {
     "slide_type": "fragment"
    }
   },
   "outputs": [],
   "source": [
    "sueldo = int(raw_input(\"Ingrese su sueldo: \"))\n",
    "if sueldo < 1000: #1000 > sueldo:\n",
    "    print \"caso 1\"\n",
    "    tasa = 0.00\n",
    "if sueldo >= 1000 and sueldo < 2000: #if 1000 <= sueldo < 2000:\n",
    "    print \"caso 2\"\n",
    "    tasa = 0.05\n",
    "if 2000 <= sueldo < 4000:\n",
    "    print \"caso 3\"\n",
    "    tasa = 0.10\n",
    "if 4000 <= sueldo:\n",
    "    print \"caso falso\"\n",
    "    tasa = 0.12\n",
    "print \"Usted debe pagar\", int(tasa*sueldo), \"de impuesto\""
   ]
  },
  {
   "cell_type": "markdown",
   "metadata": {
    "slideshow": {
     "slide_type": "fragment"
    }
   },
   "source": [
    "¿En qué se diferencian los dos programas anteriores?"
   ]
  },
  {
   "cell_type": "markdown",
   "metadata": {
    "slideshow": {
     "slide_type": "slide"
    }
   },
   "source": [
    "### Ciclo while\n",
    "El ciclo `while` ejecuta una secuencia de instrucciones mientras una condición sea verdadera."
   ]
  },
  {
   "cell_type": "markdown",
   "metadata": {
    "slideshow": {
     "slide_type": "fragment"
    }
   },
   "source": [
    "**Sintaxis:**\n",
    "```python\n",
    "while condicion:\n",
    "    sentencias a ejecutarse mientras la condicion sea verdadera\n",
    "```"
   ]
  },
  {
   "cell_type": "markdown",
   "metadata": {
    "slideshow": {
     "slide_type": "slide"
    }
   },
   "source": [
    "## Ciclo while: Diagrama de flujo equivalente\n",
    "<center>\n",
    "<img src=\"images/while.png\" width=\"40%\">\n",
    "</center>"
   ]
  },
  {
   "cell_type": "markdown",
   "metadata": {
    "slideshow": {
     "slide_type": "fragment"
    }
   },
   "source": [
    "- **Iteración:** es una ejecución del cuerpo del ciclo. Cada vez que se ejecuten las sentencias del ciclo se habla de iteración.\n",
    "- La condición es evaluada antes de cada iteración.\n",
    "- Si la condición es inicialmente falsa, el ciclo no se ejecutará ninguna vez."
   ]
  },
  {
   "cell_type": "code",
   "execution_count": null,
   "metadata": {
    "slideshow": {
     "slide_type": "slide"
    }
   },
   "outputs": [],
   "source": [
    "m = int(raw_input(\"m: \"))\n",
    "n = int(raw_input(\"n: \"))\n",
    "p = 0\n",
    "while m > 0:\n",
    "    m = m - 1 \n",
    "    p = p + n\n",
    "print \"El producto de m y n es\",p"
   ]
  },
  {
   "cell_type": "markdown",
   "metadata": {
    "slideshow": {
     "slide_type": "fragment"
    }
   },
   "source": [
    "En el ejemplo anterior, ¿cómo se asegura que en algún momento se termine el ciclo?"
   ]
  },
  {
   "cell_type": "code",
   "execution_count": null,
   "metadata": {
    "slideshow": {
     "slide_type": "skip"
    }
   },
   "outputs": [],
   "source": []
  }
 ],
 "metadata": {
  "anaconda-cloud": {},
  "celltoolbar": "Slideshow",
  "kernelspec": {
   "display_name": "Python 2",
   "language": "python",
   "name": "python2"
  },
  "language_info": {
   "codemirror_mode": {
    "name": "ipython",
    "version": 2
   },
   "file_extension": ".py",
   "mimetype": "text/x-python",
   "name": "python",
   "nbconvert_exporter": "python",
   "pygments_lexer": "ipython2",
   "version": "2.7.6"
  }
 },
 "nbformat": 4,
 "nbformat_minor": 1
}
